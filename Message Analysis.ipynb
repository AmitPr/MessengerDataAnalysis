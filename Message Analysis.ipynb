{
 "cells": [
  {
   "cell_type": "code",
   "execution_count": null,
   "id": "217b37ea-b342-43c3-a1dd-38284dc724c4",
   "metadata": {
    "tags": []
   },
   "outputs": [],
   "source": [
    "import json\n",
    "import os\n",
    "\n",
    "from datetime import datetime\n",
    "import pandas as pd\n",
    "import nltk\n",
    "\n",
    "import matplotlib.pyplot as plt"
   ]
  },
  {
   "cell_type": "code",
   "execution_count": null,
   "id": "45f79f35-8c9b-4eaf-ab0c-2954e1387445",
   "metadata": {
    "tags": []
   },
   "outputs": [],
   "source": [
    "messages_path = 'messages/'"
   ]
  },
  {
   "cell_type": "code",
   "execution_count": null,
   "id": "a143247b-90ea-425b-bcd9-0adadc621fc5",
   "metadata": {
    "tags": []
   },
   "outputs": [],
   "source": [
    "df = pd.DataFrame()\n",
    "for file in os.listdir(messages_path):\n",
    "    data = json.load(open(os.path.join(messages_path,file),\"r\"))\n",
    "    df = df.append(pd.json_normalize(data['messages']))\n",
    "df = df.rename(columns={'timestamp_ms':'datetime'})\n",
    "df['datetime'] = df.apply(lambda row: datetime.fromtimestamp(row['datetime']/1000),axis=1)\n",
    "df = df[df[\"type\"]==\"Generic\"]\n",
    "df.sort_values(by='datetime',inplace=True)\n",
    "df = df.reset_index()\n",
    "df"
   ]
  },
  {
   "cell_type": "code",
   "execution_count": null,
   "id": "464fc9c5-362e-418a-a9ff-f516194b8b04",
   "metadata": {
    "tags": []
   },
   "outputs": [],
   "source": [
    "per_day = df.groupby(pd.Grouper(freq='D',key='datetime')).count()\n",
    "per_day['index'].plot.line()\n",
    "plt.title(\"Messages per Day\")\n",
    "plt.xlabel(\"Time\")\n",
    "plt.ylabel(\"Messages\")\n",
    "plt.show()"
   ]
  },
  {
   "cell_type": "code",
   "execution_count": null,
   "id": "614fbf66-fd68-4540-8b96-02978249bd14",
   "metadata": {
    "tags": []
   },
   "outputs": [],
   "source": [
    "words = df[df.content.notnull()][\"content\"]\n",
    "pd.Series(' '.join(words).lower().split()).value_counts()[:20].plot.bar()\n",
    "plt.show()"
   ]
  },
  {
   "cell_type": "code",
   "execution_count": null,
   "id": "dd46862f-5b80-4468-9886-81265099d07f",
   "metadata": {
    "tags": []
   },
   "outputs": [],
   "source": [
    "words = [w for w in ' '.join(words).lower().split() if w.isalpha()]"
   ]
  },
  {
   "cell_type": "code",
   "execution_count": null,
   "id": "78b4a107-804c-408b-a379-049ff2a30119",
   "metadata": {
    "tags": []
   },
   "outputs": [],
   "source": [
    "stopwords = nltk.corpus.stopwords.words(\"english\")\n",
    "words = [w for w in words if w not in stopwords]\n",
    "fd = nltk.FreqDist(words)\n",
    "fd"
   ]
  },
  {
   "cell_type": "code",
   "execution_count": null,
   "id": "d59a27f5-ecb1-436c-8cfe-59654c601f91",
   "metadata": {
    "tags": []
   },
   "outputs": [],
   "source": [
    "finder = nltk.collocations.TrigramCollocationFinder.from_words(words)\n",
    "finder.ngram_fd.most_common(30)"
   ]
  },
  {
   "cell_type": "code",
   "execution_count": null,
   "id": "52f51c35-e3a1-4888-892e-bbf63caa12b3",
   "metadata": {
    "tags": []
   },
   "outputs": [],
   "source": [
    "from nltk.sentiment import SentimentIntensityAnalyzer\n",
    "sia = SentimentIntensityAnalyzer()\n",
    "df[\"sentiment\"] = df[df.content.notnull()][\"content\"].apply(lambda content: sia.polarity_scores(content))"
   ]
  }
 ],
 "metadata": {
  "interpreter": {
   "hash": "eac729bfd82d8c4c79e67f0396c30fe3a2ed343c913f0657c59960db4653245c"
  },
  "kernelspec": {
   "display_name": "Python 3 (ipykernel)",
   "language": "python",
   "name": "python3"
  },
  "language_info": {
   "codemirror_mode": {
    "name": "ipython",
    "version": 3
   },
   "file_extension": ".py",
   "mimetype": "text/x-python",
   "name": "python",
   "nbconvert_exporter": "python",
   "pygments_lexer": "ipython3",
   "version": "3.8.10"
  },
  "toc-showtags": false
 },
 "nbformat": 4,
 "nbformat_minor": 5
}
